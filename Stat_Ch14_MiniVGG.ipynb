{
  "nbformat": 4,
  "nbformat_minor": 0,
  "metadata": {
    "colab": {
      "name": "Stat_Ch14_MiniVGG.ipynb",
      "provenance": [],
      "authorship_tag": "ABX9TyPK3hXL42Kz/JD5lyASq3EX",
      "include_colab_link": true
    },
    "kernelspec": {
      "name": "python3",
      "display_name": "Python 3"
    },
    "accelerator": "GPU"
  },
  "cells": [
    {
      "cell_type": "markdown",
      "metadata": {
        "id": "view-in-github",
        "colab_type": "text"
      },
      "source": [
        "<a href=\"https://colab.research.google.com/github/karthajee/minivggnet/blob/master/Stat_Ch14_MiniVGG.ipynb\" target=\"_parent\"><img src=\"https://colab.research.google.com/assets/colab-badge.svg\" alt=\"Open In Colab\"/></a>"
      ]
    },
    {
      "cell_type": "code",
      "metadata": {
        "id": "IvlWfB6zARET",
        "colab_type": "code",
        "colab": {}
      },
      "source": [
        "#Imports for getting the data ready\n",
        "from tensorflow.keras.datasets import cifar10\n",
        "from sklearn.preprocessing import LabelBinarizer\n",
        "import tensorflow.keras.backend as K\n",
        "\n",
        "#Imports for building MiniVGGNet\n",
        "from tensorflow.keras.models import Sequential\n",
        "from tensorflow.keras.layers import Conv2D\n",
        "from tensorflow.keras.layers import Activation\n",
        "from tensorflow.keras.layers import MaxPool2D\n",
        "from tensorflow.keras.layers import Dropout\n",
        "from tensorflow.keras.layers import BatchNormalization\n",
        "from tensorflow.keras.layers import Flatten\n",
        "from tensorflow.keras.layers import Dense\n",
        "\n",
        "#Imports for training MiniVGGNet\n",
        "from tensorflow.keras.optimizers import SGD\n",
        "from tensorflow.keras.callbacks import LearningRateScheduler\n",
        "\n",
        "#Imports for evaluating MiniVGGNet\n",
        "from sklearn.metrics import classification_report\n",
        "import matplotlib.pyplot as plt\n",
        "\n",
        "#Imports for other purposes\n",
        "import numpy as np"
      ],
      "execution_count": 1,
      "outputs": []
    },
    {
      "cell_type": "code",
      "metadata": {
        "id": "-VDw9lQgchLT",
        "colab_type": "code",
        "colab": {}
      },
      "source": [
        "#Define the custom learning rate function using equation-based step decay approach\n",
        "def step_decay(epoch):\n",
        "  \n",
        "  #Initiaze terms in the equation\n",
        "  alphaInit = 0.01\n",
        "  dropFactor = 0.5\n",
        "  dropEvery = 5\n",
        "\n",
        "  #Compute the learning rate for the next epoch\n",
        "  alphaNext = alphaInit * (dropFactor ** np.floor((1 + epoch)/dropEvery))\n",
        "\n",
        "  #Return this learning rate to the calling function\n",
        "  return float(alphaNext)"
      ],
      "execution_count": 7,
      "outputs": []
    },
    {
      "cell_type": "code",
      "metadata": {
        "id": "3OLw3xQCB84D",
        "colab_type": "code",
        "colab": {
          "base_uri": "https://localhost:8080/",
          "height": 51
        },
        "outputId": "ec8eea15-57fb-40c4-8f6d-69f1063c6f05"
      },
      "source": [
        "#Generate the train and test sets\n",
        "(trainX, trainY),(testX, testY) = cifar10.load_data()"
      ],
      "execution_count": 3,
      "outputs": [
        {
          "output_type": "stream",
          "text": [
            "Downloading data from https://www.cs.toronto.edu/~kriz/cifar-10-python.tar.gz\n",
            "170500096/170498071 [==============================] - 6s 0us/step\n"
          ],
          "name": "stdout"
        }
      ]
    },
    {
      "cell_type": "code",
      "metadata": {
        "id": "yb4ZLngqCOgv",
        "colab_type": "code",
        "colab": {}
      },
      "source": [
        "#Store target classes in a list for later use\n",
        "labels = ['airplane', 'automobile', 'bird', 'cat', 'deer', 'dog', 'frog', 'horse', 'ship', 'truck']\n",
        "\n",
        "#Normalize training & test input distributions\n",
        "trainX = trainX.astype('float') / 255.0\n",
        "testX = testX.astype('float') / 255.0\n",
        "\n",
        "#Convert training & test target labels into one-hot vectors\n",
        "lb = LabelBinarizer()\n",
        "trainY = lb.fit_transform(trainY)\n",
        "testY = lb.transform(testY)\n",
        "\n",
        "#Set channel dimension to -1 for BN layer\n",
        "chanDim = -1\n",
        "\n",
        "#Reshape both train and test input features according to channels ordering\n",
        "if K.image_data_format() == 'channels_first':\n",
        "  trainX = trainX.reshape(trainX.shape[0], trainX.shape[3], trainX.shape[1], trainX.shape[2])\n",
        "  testX = testX.reshape(testX.shape[0], testX.shape[3], testX.shape[1], testX.shape[2])\n",
        "  chanDim = 1"
      ],
      "execution_count": 4,
      "outputs": []
    },
    {
      "cell_type": "code",
      "metadata": {
        "id": "SoIwI2x9EJIn",
        "colab_type": "code",
        "colab": {
          "base_uri": "https://localhost:8080/",
          "height": 918
        },
        "outputId": "868794b3-d6ac-46d8-91aa-8afcd5039464"
      },
      "source": [
        "#Instantiate a Keras Sequential Model\n",
        "model = Sequential()\n",
        "inputShape = (trainX.shape[1], trainX.shape[2], trainX.shape[3])\n",
        "\n",
        "#Build MiniVGGNet by stacking layers - one-by-one\n",
        "print(\"[INFO] Building the model...\")\n",
        "model.add(Conv2D(filters=32, kernel_size=(3,3), strides=(1,1), padding='same', input_shape=inputShape))\n",
        "model.add(Activation(\"relu\"))\n",
        "model.add(BatchNormalization(axis=chanDim))\n",
        "model.add(Conv2D(filters=32, kernel_size=(3,3), strides=(1,1), padding='same'))\n",
        "model.add(Activation(\"relu\"))\n",
        "model.add(BatchNormalization(axis=chanDim))\n",
        "model.add(MaxPool2D(pool_size=(2,2), strides=(2,2), padding='valid'))\n",
        "model.add(Dropout(rate=0.25))\n",
        "model.add(Conv2D(filters=64, kernel_size=(3,3), strides=(1,1), padding='same'))\n",
        "model.add(Activation(\"relu\"))\n",
        "model.add(BatchNormalization(axis=chanDim))\n",
        "model.add(Conv2D(filters=64, kernel_size=(3,3), strides=(1,1), padding='same'))\n",
        "model.add(Activation(\"relu\"))\n",
        "model.add(BatchNormalization(axis=chanDim))\n",
        "model.add(MaxPool2D(pool_size=(2,2), strides=(2,2), padding='valid'))\n",
        "model.add(Dropout(rate=0.25))\n",
        "model.add(Flatten())\n",
        "model.add(Dense(512))\n",
        "model.add(Activation(\"relu\"))\n",
        "model.add(BatchNormalization(axis=chanDim))\n",
        "model.add(Dropout(rate=0.5))\n",
        "model.add(Dense(units=len(labels), activation='softmax'))\n",
        "\n",
        "#Print model summary\n",
        "model.summary()"
      ],
      "execution_count": 5,
      "outputs": [
        {
          "output_type": "stream",
          "text": [
            "[INFO] Building the model...\n",
            "Model: \"sequential\"\n",
            "_________________________________________________________________\n",
            "Layer (type)                 Output Shape              Param #   \n",
            "=================================================================\n",
            "conv2d (Conv2D)              (None, 32, 32, 32)        896       \n",
            "_________________________________________________________________\n",
            "activation (Activation)      (None, 32, 32, 32)        0         \n",
            "_________________________________________________________________\n",
            "batch_normalization (BatchNo (None, 32, 32, 32)        128       \n",
            "_________________________________________________________________\n",
            "conv2d_1 (Conv2D)            (None, 32, 32, 32)        9248      \n",
            "_________________________________________________________________\n",
            "activation_1 (Activation)    (None, 32, 32, 32)        0         \n",
            "_________________________________________________________________\n",
            "batch_normalization_1 (Batch (None, 32, 32, 32)        128       \n",
            "_________________________________________________________________\n",
            "max_pooling2d (MaxPooling2D) (None, 16, 16, 32)        0         \n",
            "_________________________________________________________________\n",
            "dropout (Dropout)            (None, 16, 16, 32)        0         \n",
            "_________________________________________________________________\n",
            "conv2d_2 (Conv2D)            (None, 16, 16, 64)        18496     \n",
            "_________________________________________________________________\n",
            "activation_2 (Activation)    (None, 16, 16, 64)        0         \n",
            "_________________________________________________________________\n",
            "batch_normalization_2 (Batch (None, 16, 16, 64)        256       \n",
            "_________________________________________________________________\n",
            "conv2d_3 (Conv2D)            (None, 16, 16, 64)        36928     \n",
            "_________________________________________________________________\n",
            "activation_3 (Activation)    (None, 16, 16, 64)        0         \n",
            "_________________________________________________________________\n",
            "batch_normalization_3 (Batch (None, 16, 16, 64)        256       \n",
            "_________________________________________________________________\n",
            "max_pooling2d_1 (MaxPooling2 (None, 8, 8, 64)          0         \n",
            "_________________________________________________________________\n",
            "dropout_1 (Dropout)          (None, 8, 8, 64)          0         \n",
            "_________________________________________________________________\n",
            "flatten (Flatten)            (None, 4096)              0         \n",
            "_________________________________________________________________\n",
            "dense (Dense)                (None, 512)               2097664   \n",
            "_________________________________________________________________\n",
            "activation_4 (Activation)    (None, 512)               0         \n",
            "_________________________________________________________________\n",
            "batch_normalization_4 (Batch (None, 512)               2048      \n",
            "_________________________________________________________________\n",
            "dropout_2 (Dropout)          (None, 512)               0         \n",
            "_________________________________________________________________\n",
            "dense_1 (Dense)              (None, 10)                5130      \n",
            "=================================================================\n",
            "Total params: 2,171,178\n",
            "Trainable params: 2,169,770\n",
            "Non-trainable params: 1,408\n",
            "_________________________________________________________________\n"
          ],
          "name": "stdout"
        }
      ]
    },
    {
      "cell_type": "code",
      "metadata": {
        "id": "pHtKdeTbKSCH",
        "colab_type": "code",
        "colab": {
          "base_uri": "https://localhost:8080/",
          "height": 1000
        },
        "outputId": "6ac9e3df-fdb1-47ad-aa96-db65bba9f7d4"
      },
      "source": [
        "#Compiling the model\n",
        "print(\"[INFO] Compiling the model...\")\n",
        "callbacks = [LearningRateScheduler(step_decay)]\n",
        "opt = SGD(learning_rate=0.01, momentum=0.9, nesterov=True)\n",
        "model.compile(optimizer=opt, loss='categorical_crossentropy', metrics=['accuracy'])\n",
        "\n",
        "#Training the network\n",
        "print('[INFO] Training the network...')\n",
        "H = model.fit(trainX, trainY, batch_size=64, epochs=50, verbose=1, validation_data=(testX, testY), callbacks=callbacks)"
      ],
      "execution_count": 8,
      "outputs": [
        {
          "output_type": "stream",
          "text": [
            "[INFO] Compiling the model...\n",
            "[INFO] Training the network...\n",
            "Epoch 1/50\n",
            "782/782 [==============================] - 6s 8ms/step - loss: 1.7629 - accuracy: 0.4172 - val_loss: 1.4833 - val_accuracy: 0.4734 - lr: 0.0100\n",
            "Epoch 2/50\n",
            "782/782 [==============================] - 6s 7ms/step - loss: 1.2789 - accuracy: 0.5586 - val_loss: 1.0381 - val_accuracy: 0.6323 - lr: 0.0100\n",
            "Epoch 3/50\n",
            "782/782 [==============================] - 6s 7ms/step - loss: 1.0628 - accuracy: 0.6301 - val_loss: 0.8852 - val_accuracy: 0.6941 - lr: 0.0100\n",
            "Epoch 4/50\n",
            "782/782 [==============================] - 6s 7ms/step - loss: 0.9340 - accuracy: 0.6767 - val_loss: 0.7956 - val_accuracy: 0.7212 - lr: 0.0100\n",
            "Epoch 5/50\n",
            "782/782 [==============================] - 6s 7ms/step - loss: 0.7813 - accuracy: 0.7247 - val_loss: 0.7146 - val_accuracy: 0.7469 - lr: 0.0050\n",
            "Epoch 6/50\n",
            "782/782 [==============================] - 6s 7ms/step - loss: 0.7280 - accuracy: 0.7429 - val_loss: 0.6690 - val_accuracy: 0.7652 - lr: 0.0050\n",
            "Epoch 7/50\n",
            "782/782 [==============================] - 6s 7ms/step - loss: 0.6889 - accuracy: 0.7588 - val_loss: 0.6796 - val_accuracy: 0.7618 - lr: 0.0050\n",
            "Epoch 8/50\n",
            "782/782 [==============================] - 6s 7ms/step - loss: 0.6613 - accuracy: 0.7670 - val_loss: 0.6656 - val_accuracy: 0.7709 - lr: 0.0050\n",
            "Epoch 9/50\n",
            "782/782 [==============================] - 6s 7ms/step - loss: 0.6331 - accuracy: 0.7782 - val_loss: 0.6506 - val_accuracy: 0.7777 - lr: 0.0050\n",
            "Epoch 10/50\n",
            "782/782 [==============================] - 6s 7ms/step - loss: 0.5758 - accuracy: 0.7968 - val_loss: 0.6427 - val_accuracy: 0.7770 - lr: 0.0025\n",
            "Epoch 11/50\n",
            "782/782 [==============================] - 6s 7ms/step - loss: 0.5516 - accuracy: 0.8032 - val_loss: 0.5907 - val_accuracy: 0.7947 - lr: 0.0025\n",
            "Epoch 12/50\n",
            "782/782 [==============================] - 6s 7ms/step - loss: 0.5307 - accuracy: 0.8133 - val_loss: 0.5898 - val_accuracy: 0.7955 - lr: 0.0025\n",
            "Epoch 13/50\n",
            "782/782 [==============================] - 6s 7ms/step - loss: 0.5187 - accuracy: 0.8159 - val_loss: 0.5864 - val_accuracy: 0.7968 - lr: 0.0025\n",
            "Epoch 14/50\n",
            "782/782 [==============================] - 6s 7ms/step - loss: 0.5083 - accuracy: 0.8198 - val_loss: 0.6088 - val_accuracy: 0.7910 - lr: 0.0025\n",
            "Epoch 15/50\n",
            "782/782 [==============================] - 6s 7ms/step - loss: 0.4800 - accuracy: 0.8320 - val_loss: 0.5891 - val_accuracy: 0.7949 - lr: 0.0012\n",
            "Epoch 16/50\n",
            "782/782 [==============================] - 6s 7ms/step - loss: 0.4673 - accuracy: 0.8334 - val_loss: 0.5684 - val_accuracy: 0.8047 - lr: 0.0012\n",
            "Epoch 17/50\n",
            "782/782 [==============================] - 6s 7ms/step - loss: 0.4643 - accuracy: 0.8360 - val_loss: 0.5679 - val_accuracy: 0.8039 - lr: 0.0012\n",
            "Epoch 18/50\n",
            "782/782 [==============================] - 6s 7ms/step - loss: 0.4550 - accuracy: 0.8390 - val_loss: 0.5785 - val_accuracy: 0.8039 - lr: 0.0012\n",
            "Epoch 19/50\n",
            "782/782 [==============================] - 6s 7ms/step - loss: 0.4441 - accuracy: 0.8433 - val_loss: 0.5692 - val_accuracy: 0.8031 - lr: 0.0012\n",
            "Epoch 20/50\n",
            "782/782 [==============================] - 6s 7ms/step - loss: 0.4323 - accuracy: 0.8458 - val_loss: 0.5590 - val_accuracy: 0.8081 - lr: 6.2500e-04\n",
            "Epoch 21/50\n",
            "782/782 [==============================] - 6s 7ms/step - loss: 0.4291 - accuracy: 0.8480 - val_loss: 0.5555 - val_accuracy: 0.8121 - lr: 6.2500e-04\n",
            "Epoch 22/50\n",
            "782/782 [==============================] - 6s 7ms/step - loss: 0.4225 - accuracy: 0.8504 - val_loss: 0.5525 - val_accuracy: 0.8111 - lr: 6.2500e-04\n",
            "Epoch 23/50\n",
            "782/782 [==============================] - 6s 7ms/step - loss: 0.4159 - accuracy: 0.8531 - val_loss: 0.5618 - val_accuracy: 0.8071 - lr: 6.2500e-04\n",
            "Epoch 24/50\n",
            "782/782 [==============================] - 6s 7ms/step - loss: 0.4134 - accuracy: 0.8522 - val_loss: 0.5522 - val_accuracy: 0.8119 - lr: 6.2500e-04\n",
            "Epoch 25/50\n",
            "782/782 [==============================] - 6s 7ms/step - loss: 0.4051 - accuracy: 0.8564 - val_loss: 0.5548 - val_accuracy: 0.8110 - lr: 3.1250e-04\n",
            "Epoch 26/50\n",
            "782/782 [==============================] - 6s 7ms/step - loss: 0.4072 - accuracy: 0.8570 - val_loss: 0.5511 - val_accuracy: 0.8108 - lr: 3.1250e-04\n",
            "Epoch 27/50\n",
            "782/782 [==============================] - 6s 7ms/step - loss: 0.4035 - accuracy: 0.8583 - val_loss: 0.5509 - val_accuracy: 0.8116 - lr: 3.1250e-04\n",
            "Epoch 28/50\n",
            "782/782 [==============================] - 6s 7ms/step - loss: 0.3972 - accuracy: 0.8612 - val_loss: 0.5498 - val_accuracy: 0.8111 - lr: 3.1250e-04\n",
            "Epoch 29/50\n",
            "782/782 [==============================] - 6s 7ms/step - loss: 0.3994 - accuracy: 0.8586 - val_loss: 0.5487 - val_accuracy: 0.8142 - lr: 3.1250e-04\n",
            "Epoch 30/50\n",
            "782/782 [==============================] - 6s 7ms/step - loss: 0.3933 - accuracy: 0.8613 - val_loss: 0.5492 - val_accuracy: 0.8128 - lr: 1.5625e-04\n",
            "Epoch 31/50\n",
            "782/782 [==============================] - 6s 7ms/step - loss: 0.3929 - accuracy: 0.8617 - val_loss: 0.5509 - val_accuracy: 0.8132 - lr: 1.5625e-04\n",
            "Epoch 32/50\n",
            "782/782 [==============================] - 6s 7ms/step - loss: 0.3951 - accuracy: 0.8599 - val_loss: 0.5507 - val_accuracy: 0.8129 - lr: 1.5625e-04\n",
            "Epoch 33/50\n",
            "782/782 [==============================] - 6s 7ms/step - loss: 0.3891 - accuracy: 0.8615 - val_loss: 0.5464 - val_accuracy: 0.8146 - lr: 1.5625e-04\n",
            "Epoch 34/50\n",
            "782/782 [==============================] - 6s 7ms/step - loss: 0.3891 - accuracy: 0.8620 - val_loss: 0.5478 - val_accuracy: 0.8141 - lr: 1.5625e-04\n",
            "Epoch 35/50\n",
            "782/782 [==============================] - 6s 7ms/step - loss: 0.3852 - accuracy: 0.8633 - val_loss: 0.5482 - val_accuracy: 0.8137 - lr: 7.8125e-05\n",
            "Epoch 36/50\n",
            "782/782 [==============================] - 6s 7ms/step - loss: 0.3901 - accuracy: 0.8607 - val_loss: 0.5468 - val_accuracy: 0.8134 - lr: 7.8125e-05\n",
            "Epoch 37/50\n",
            "782/782 [==============================] - 6s 7ms/step - loss: 0.3898 - accuracy: 0.8606 - val_loss: 0.5478 - val_accuracy: 0.8133 - lr: 7.8125e-05\n",
            "Epoch 38/50\n",
            "782/782 [==============================] - 6s 7ms/step - loss: 0.3871 - accuracy: 0.8620 - val_loss: 0.5479 - val_accuracy: 0.8136 - lr: 7.8125e-05\n",
            "Epoch 39/50\n",
            "782/782 [==============================] - 6s 8ms/step - loss: 0.3847 - accuracy: 0.8646 - val_loss: 0.5475 - val_accuracy: 0.8146 - lr: 7.8125e-05\n",
            "Epoch 40/50\n",
            "782/782 [==============================] - 6s 8ms/step - loss: 0.3844 - accuracy: 0.8630 - val_loss: 0.5479 - val_accuracy: 0.8141 - lr: 3.9062e-05\n",
            "Epoch 41/50\n",
            "782/782 [==============================] - 6s 7ms/step - loss: 0.3793 - accuracy: 0.8666 - val_loss: 0.5484 - val_accuracy: 0.8143 - lr: 3.9062e-05\n",
            "Epoch 42/50\n",
            "782/782 [==============================] - 6s 7ms/step - loss: 0.3843 - accuracy: 0.8638 - val_loss: 0.5478 - val_accuracy: 0.8143 - lr: 3.9062e-05\n",
            "Epoch 43/50\n",
            "782/782 [==============================] - 6s 7ms/step - loss: 0.3830 - accuracy: 0.8642 - val_loss: 0.5491 - val_accuracy: 0.8145 - lr: 3.9062e-05\n",
            "Epoch 44/50\n",
            "782/782 [==============================] - 6s 7ms/step - loss: 0.3861 - accuracy: 0.8628 - val_loss: 0.5475 - val_accuracy: 0.8140 - lr: 3.9062e-05\n",
            "Epoch 45/50\n",
            "782/782 [==============================] - 6s 7ms/step - loss: 0.3905 - accuracy: 0.8607 - val_loss: 0.5478 - val_accuracy: 0.8141 - lr: 1.9531e-05\n",
            "Epoch 46/50\n",
            "782/782 [==============================] - 6s 7ms/step - loss: 0.3852 - accuracy: 0.8641 - val_loss: 0.5466 - val_accuracy: 0.8144 - lr: 1.9531e-05\n",
            "Epoch 47/50\n",
            "782/782 [==============================] - 6s 7ms/step - loss: 0.3818 - accuracy: 0.8640 - val_loss: 0.5469 - val_accuracy: 0.8130 - lr: 1.9531e-05\n",
            "Epoch 48/50\n",
            "782/782 [==============================] - 6s 7ms/step - loss: 0.3837 - accuracy: 0.8630 - val_loss: 0.5476 - val_accuracy: 0.8138 - lr: 1.9531e-05\n",
            "Epoch 49/50\n",
            "782/782 [==============================] - 6s 7ms/step - loss: 0.3845 - accuracy: 0.8641 - val_loss: 0.5467 - val_accuracy: 0.8143 - lr: 1.9531e-05\n",
            "Epoch 50/50\n",
            "782/782 [==============================] - 6s 7ms/step - loss: 0.3830 - accuracy: 0.8657 - val_loss: 0.5471 - val_accuracy: 0.8142 - lr: 9.7656e-06\n"
          ],
          "name": "stdout"
        }
      ]
    },
    {
      "cell_type": "code",
      "metadata": {
        "id": "79ylXu8ILZxS",
        "colab_type": "code",
        "colab": {
          "base_uri": "https://localhost:8080/",
          "height": 306
        },
        "outputId": "f649b38c-b900-4116-9910-2b7ea6e1bb54"
      },
      "source": [
        "#Generate predictions on the test set\n",
        "predictions = model.predict(testX, batch_size=64)\n",
        "\n",
        "#Print the classification report\n",
        "print(classification_report(y_true=np.argmax(testY, axis=1), y_pred=np.argmax(predictions, axis=1), \n",
        "                            target_names=labels))"
      ],
      "execution_count": 9,
      "outputs": [
        {
          "output_type": "stream",
          "text": [
            "              precision    recall  f1-score   support\n",
            "\n",
            "    airplane       0.83      0.82      0.83      1000\n",
            "  automobile       0.91      0.91      0.91      1000\n",
            "        bird       0.78      0.70      0.74      1000\n",
            "         cat       0.65      0.63      0.64      1000\n",
            "        deer       0.77      0.80      0.78      1000\n",
            "         dog       0.72      0.73      0.72      1000\n",
            "        frog       0.84      0.89      0.86      1000\n",
            "       horse       0.85      0.86      0.86      1000\n",
            "        ship       0.91      0.91      0.91      1000\n",
            "       truck       0.88      0.89      0.89      1000\n",
            "\n",
            "    accuracy                           0.81     10000\n",
            "   macro avg       0.81      0.81      0.81     10000\n",
            "weighted avg       0.81      0.81      0.81     10000\n",
            "\n"
          ],
          "name": "stdout"
        }
      ]
    },
    {
      "cell_type": "code",
      "metadata": {
        "id": "s3KyDD0kMGHf",
        "colab_type": "code",
        "colab": {
          "base_uri": "https://localhost:8080/",
          "height": 299
        },
        "outputId": "a09327dd-58ea-4eb7-934a-3236afd0ada8"
      },
      "source": [
        "#Plot the training & validation loss/accuracy curve\n",
        "plt.figure()\n",
        "plt.style.use('ggplot')\n",
        "plt.plot(np.arange(0, 50), H.history['accuracy'], label='Training Accuracy')\n",
        "plt.plot(np.arange(0, 50), H.history['val_accuracy'], label='Validation Accuracy')\n",
        "plt.plot(np.arange(0, 50), H.history['loss'], label='Training Loss')\n",
        "plt.plot(np.arange(0, 50), H.history['val_loss'], label='Validation Loss')\n",
        "plt.legend()\n",
        "plt.title('Accuracy/Loss vs Epochs')\n",
        "plt.xlabel('Epoch Number')\n",
        "plt.ylabel('Accuracy/Loss')\n",
        "plt.show()"
      ],
      "execution_count": 10,
      "outputs": [
        {
          "output_type": "display_data",
          "data": {
            "image/png": "[encoded data removed]",
            "text/plain": [
              "<Figure size 432x288 with 1 Axes>"
            ]
          },
          "metadata": {
            "tags": [],
            "needs_background": "light"
          }
        }
      ]
    }
  ]
}